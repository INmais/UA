{
 "cells": [
  {
   "cell_type": "markdown",
   "metadata": {},
   "source": [
    "## Intro"
   ]
  },
  {
   "cell_type": "markdown",
   "metadata": {},
   "source": [
    "### Urban Analytics Summer School Preliminary Program\n",
    "\n",
    "|Date| 14th July |15th July |16th July |17th July |18th July |19th July |\n",
    "|------|------|------|------|------|------|------|\n",
    "| Day | Sunday | Monday | Tuesday| Wednesday| Thursday |Friday | \n",
    "| 9:00 |`__________`| Registration and Software installation check | Keynote speaker talk |Keynote speaker talk |Keynote speaker talk |Preparation of presentations |\n",
    "|9:30  |`__________`| Registration and Software installation check | Keynote speaker talk |Keynote speaker talk |Keynote speaker talk |Preparation of presentations |\n",
    "|10:00 |`__________`| Registration and Software installation check | Keynote speaker talk |Keynote speaker talk |Keynote speaker talk |Preparation of presentations |\n",
    "|10:30 |`__________`| Registration and Software installation check | Coffee Break |Coffee Break |Coffee Break |Coffee Break |\n",
    "|11:00 |`__________`| Coffee Break |  Tool 2 - Introduction to ArcGis |Tool 3 - Introduction to EnergyPlus |Tool 4 - Introduction to Mobility tool| Preparation of presentations |\n",
    "|11:30 |`__________`| Summer School:Opening and Overview |Tool 2 - Introduction to ArcGis |Tool 3 - Introduction to EnergyPlus |Tool 4 - Introduction to Mobility tool|Preparation of presentations |\n",
    "|12:00 |`__________`| Tool 1 - Introduction to Phyton |Tool 2 - Introduction to ArcGis |Tool 3 - Introduction to EnergyPlus |Tool 4 - Introduction to Mobility tool|Preparation of presentations |\n",
    "|12:30 |`__________`| Tool 1 - Introduction to Phyton |Tool 2 - Introduction to ArcGis |Tool 3 - Introduction to EnergyPlus |Tool 4 - Introduction to Mobility tool|Preparation of presentations |\n",
    "|13:00 |`__________`| Lunch | Lunch |Roundtable Discussion Lunch | Lunch |Lunch |\n",
    "|13:30 |`__________`| Lunch | Lunch |Roundtable Discussion Lunch | Lunch |Lunch |\n",
    "|14:00 | Trip to Sintra (optional)| Tool 1 - Introduction to Phyton | Tool 2 - Introduction to ArcGis |Tool 3 - Introduction to EnergyPlus |Tool 4 - Introduction to Mobility tool|Team Presentations |\n",
    "|14:30 | Trip to Sintra (optional)| Tool 1 - Introduction to Phyton | Tool 2 - Introduction to ArcGis |Tool 3 - Introduction to EnergyPlus |Tool 4 - Introduction to Mobility tool|Team Presentations |\n",
    "|15:00 | Trip to Sintra (optional)| Tool 1 - Hands-on session with Phyton | Tool 2 - Introduction to ArcGis |Tool 3 - Introduction to EnergyPlus |Tool 4 - Introduction to Mobility tool|Team Presentations |\n",
    "|15:30 | Trip to Sintra (optional)| Tool 1 - Hands-on session with Phyton | Tool 2 - Introduction to ArcGis |Tool 3 - Introduction to EnergyPlus |Tool 4 - Introduction to Mobility tool|Team Presentations |\n",
    "|16:00 | Trip to Sintra (optional)| Tool 1 - Hands-on session with Phyton | Tool 2 - Introduction to ArcGis |Tool 3 - Introduction to EnergyPlus |Tool 4 - Introduction to Mobility tool|Team Presentations |\n",
    "|16:30 | Trip to Sintra (optional)| Tool 1 - Hands-on session with Phyton | Tool 2 - Introduction to ArcGis |Tool 3 - Introduction to EnergyPlus |Tool 4 - Introduction to Mobility tool|Team Presentations |\n",
    "|17:00 | Trip to Sintra (optional)| Tool 1 - Hands-on session with Phyton | Tool 2 - Introduction to ArcGis |Tool 3 - Introduction to EnergyPlus |Tool 4 - Introduction to Mobility tool|Team Presentations |\n",
    "|17:30 | Trip to Sintra (optional)| Tool 1 - Hands-on session with Phyton | Field trip to case study areas (by group)| `__________`| `__________`|Closing session |\n",
    "|18:00 | Trip to Sintra (optional)| Tool 1 - Hands-on session with Phyton |Field trip to case study areas (by group)|`__________`| `__________`|Closing session |\n",
    "|18:30 | Trip to Sintra (optional)| Welcome drinks |Field trip to case study areas (by group)|`__________`| `__________`|`__________`|\n",
    "|19:00 | Trip to Sintra (optional)| Welcome drinks |Field trip to case study areas (by group)|`__________`| `__________`|`__________`|\n",
    "|19:30 | Trip to Sintra (optional)|`__________`|`__________`|`__________`|Summer School Dinner |`__________`|\n",
    "|20:00 |`__________`|`__________`|`__________`|`__________`|Summer School Dinner |`__________`|\n",
    "|20:30 |`__________`|`__________`|`__________`|`__________`|Summer School Dinner |`__________`|\n",
    "|21:00 |`__________`|`__________`|`__________`|`__________`|Summer School Dinner |`__________`|\n",
    "|21:30 |`__________`|`__________`|`__________`|`__________`|Summer School Dinner |`__________`|\n",
    "|22:00 |`__________`|`__________`|`__________`|`__________`|Summer School Dinner |`__________`|"
   ]
  },
  {
   "cell_type": "markdown",
   "metadata": {},
   "source": [
    "### Location\n",
    "\n",
    "Campus Alameda\n",
    "\n",
    "Av. Rovisco Pais, 1\n",
    "\n",
    "1049-001 Lisboa"
   ]
  },
  {
   "cell_type": "code",
   "execution_count": 105,
   "metadata": {},
   "outputs": [
    {
     "data": {
      "text/html": [
       "<div style=\"width:100%;\"><div style=\"position:relative;width:100%;height:0;padding-bottom:60%;\"><iframe src=\"data:text/html;charset=utf-8;base64,PCFET0NUWVBFIGh0bWw+CjxoZWFkPiAgICAKICAgIDxtZXRhIGh0dHAtZXF1aXY9ImNvbnRlbnQtdHlwZSIgY29udGVudD0idGV4dC9odG1sOyBjaGFyc2V0PVVURi04IiAvPgogICAgPHNjcmlwdD5MX1BSRUZFUl9DQU5WQVM9ZmFsc2U7IExfTk9fVE9VQ0g9ZmFsc2U7IExfRElTQUJMRV8zRD1mYWxzZTs8L3NjcmlwdD4KICAgIDxzY3JpcHQgc3JjPSJodHRwczovL2Nkbi5qc2RlbGl2ci5uZXQvbnBtL2xlYWZsZXRAMS40LjAvZGlzdC9sZWFmbGV0LmpzIj48L3NjcmlwdD4KICAgIDxzY3JpcHQgc3JjPSJodHRwczovL2NvZGUuanF1ZXJ5LmNvbS9qcXVlcnktMS4xMi40Lm1pbi5qcyI+PC9zY3JpcHQ+CiAgICA8c2NyaXB0IHNyYz0iaHR0cHM6Ly9tYXhjZG4uYm9vdHN0cmFwY2RuLmNvbS9ib290c3RyYXAvMy4yLjAvanMvYm9vdHN0cmFwLm1pbi5qcyI+PC9zY3JpcHQ+CiAgICA8c2NyaXB0IHNyYz0iaHR0cHM6Ly9jZG5qcy5jbG91ZGZsYXJlLmNvbS9hamF4L2xpYnMvTGVhZmxldC5hd2Vzb21lLW1hcmtlcnMvMi4wLjIvbGVhZmxldC5hd2Vzb21lLW1hcmtlcnMuanMiPjwvc2NyaXB0PgogICAgPGxpbmsgcmVsPSJzdHlsZXNoZWV0IiBocmVmPSJodHRwczovL2Nkbi5qc2RlbGl2ci5uZXQvbnBtL2xlYWZsZXRAMS40LjAvZGlzdC9sZWFmbGV0LmNzcyIvPgogICAgPGxpbmsgcmVsPSJzdHlsZXNoZWV0IiBocmVmPSJodHRwczovL21heGNkbi5ib290c3RyYXBjZG4uY29tL2Jvb3RzdHJhcC8zLjIuMC9jc3MvYm9vdHN0cmFwLm1pbi5jc3MiLz4KICAgIDxsaW5rIHJlbD0ic3R5bGVzaGVldCIgaHJlZj0iaHR0cHM6Ly9tYXhjZG4uYm9vdHN0cmFwY2RuLmNvbS9ib290c3RyYXAvMy4yLjAvY3NzL2Jvb3RzdHJhcC10aGVtZS5taW4uY3NzIi8+CiAgICA8bGluayByZWw9InN0eWxlc2hlZXQiIGhyZWY9Imh0dHBzOi8vbWF4Y2RuLmJvb3RzdHJhcGNkbi5jb20vZm9udC1hd2Vzb21lLzQuNi4zL2Nzcy9mb250LWF3ZXNvbWUubWluLmNzcyIvPgogICAgPGxpbmsgcmVsPSJzdHlsZXNoZWV0IiBocmVmPSJodHRwczovL2NkbmpzLmNsb3VkZmxhcmUuY29tL2FqYXgvbGlicy9MZWFmbGV0LmF3ZXNvbWUtbWFya2Vycy8yLjAuMi9sZWFmbGV0LmF3ZXNvbWUtbWFya2Vycy5jc3MiLz4KICAgIDxsaW5rIHJlbD0ic3R5bGVzaGVldCIgaHJlZj0iaHR0cHM6Ly9yYXdjZG4uZ2l0aGFjay5jb20vcHl0aG9uLXZpc3VhbGl6YXRpb24vZm9saXVtL21hc3Rlci9mb2xpdW0vdGVtcGxhdGVzL2xlYWZsZXQuYXdlc29tZS5yb3RhdGUuY3NzIi8+CiAgICA8c3R5bGU+aHRtbCwgYm9keSB7d2lkdGg6IDEwMCU7aGVpZ2h0OiAxMDAlO21hcmdpbjogMDtwYWRkaW5nOiAwO308L3N0eWxlPgogICAgPHN0eWxlPiNtYXAge3Bvc2l0aW9uOmFic29sdXRlO3RvcDowO2JvdHRvbTowO3JpZ2h0OjA7bGVmdDowO308L3N0eWxlPgogICAgCiAgICA8bWV0YSBuYW1lPSJ2aWV3cG9ydCIgY29udGVudD0id2lkdGg9ZGV2aWNlLXdpZHRoLAogICAgICAgIGluaXRpYWwtc2NhbGU9MS4wLCBtYXhpbXVtLXNjYWxlPTEuMCwgdXNlci1zY2FsYWJsZT1ubyIgLz4KICAgIDxzdHlsZT4jbWFwXzUwM2JkZDc1MTVjMzQwN2ViYTE1ZmZhNDE0ODNlOWQ1IHsKICAgICAgICBwb3NpdGlvbjogcmVsYXRpdmU7CiAgICAgICAgd2lkdGg6IDEwMC4wJTsKICAgICAgICBoZWlnaHQ6IDEwMC4wJTsKICAgICAgICBsZWZ0OiAwLjAlOwogICAgICAgIHRvcDogMC4wJTsKICAgICAgICB9CiAgICA8L3N0eWxlPgo8L2hlYWQ+Cjxib2R5PiAgICAKICAgIAogICAgPGRpdiBjbGFzcz0iZm9saXVtLW1hcCIgaWQ9Im1hcF81MDNiZGQ3NTE1YzM0MDdlYmExNWZmYTQxNDgzZTlkNSIgPjwvZGl2Pgo8L2JvZHk+CjxzY3JpcHQ+ICAgIAogICAgCiAgICAKICAgICAgICB2YXIgYm91bmRzID0gbnVsbDsKICAgIAoKICAgIHZhciBtYXBfNTAzYmRkNzUxNWMzNDA3ZWJhMTVmZmE0MTQ4M2U5ZDUgPSBMLm1hcCgKICAgICAgICAnbWFwXzUwM2JkZDc1MTVjMzQwN2ViYTE1ZmZhNDE0ODNlOWQ1JywgewogICAgICAgIGNlbnRlcjogWzM4LjczNjgsIC05LjEzODddLAogICAgICAgIHpvb206IDE2LAogICAgICAgIG1heEJvdW5kczogYm91bmRzLAogICAgICAgIGxheWVyczogW10sCiAgICAgICAgd29ybGRDb3B5SnVtcDogZmFsc2UsCiAgICAgICAgY3JzOiBMLkNSUy5FUFNHMzg1NywKICAgICAgICB6b29tQ29udHJvbDogdHJ1ZSwKICAgICAgICB9KTsKCgogICAgCiAgICB2YXIgdGlsZV9sYXllcl8yOTRlODdkNDkzODg0ZDA0OGQ2NTU2ZDI1NWRjZTliNCA9IEwudGlsZUxheWVyKAogICAgICAgICdodHRwczovL2NhcnRvZGItYmFzZW1hcHMte3N9Lmdsb2JhbC5zc2wuZmFzdGx5Lm5ldC9kYXJrX2FsbC97en0ve3h9L3t5fS5wbmcnLAogICAgICAgIHsKICAgICAgICAiYXR0cmlidXRpb24iOiBudWxsLAogICAgICAgICJkZXRlY3RSZXRpbmEiOiBmYWxzZSwKICAgICAgICAibWF4TmF0aXZlWm9vbSI6IDE4LAogICAgICAgICJtYXhab29tIjogMTgsCiAgICAgICAgIm1pblpvb20iOiAwLAogICAgICAgICJub1dyYXAiOiBmYWxzZSwKICAgICAgICAib3BhY2l0eSI6IDEsCiAgICAgICAgInN1YmRvbWFpbnMiOiAiYWJjIiwKICAgICAgICAidG1zIjogZmFsc2UKfSkuYWRkVG8obWFwXzUwM2JkZDc1MTVjMzQwN2ViYTE1ZmZhNDE0ODNlOWQ1KTsKICAgIAogICAgICAgICAgICB2YXIgY2lyY2xlX21hcmtlcl8yNDUxODRiMmY2YTI0Nzk3YWYyYjdmNzEwMmIyNjBlZiA9IEwuY2lyY2xlTWFya2VyKAogICAgICAgICAgICAgICAgWzM4LjczNjgsIC05LjEzODddLAogICAgICAgICAgICAgICAgewogICJidWJibGluZ01vdXNlRXZlbnRzIjogdHJ1ZSwKICAiY29sb3IiOiAiIzMzODhmZiIsCiAgImRhc2hBcnJheSI6IG51bGwsCiAgImRhc2hPZmZzZXQiOiBudWxsLAogICJmaWxsIjogdHJ1ZSwKICAiZmlsbENvbG9yIjogIiMzMzg4ZmYiLAogICJmaWxsT3BhY2l0eSI6IDAuMiwKICAiZmlsbFJ1bGUiOiAiZXZlbm9kZCIsCiAgImxpbmVDYXAiOiAicm91bmQiLAogICJsaW5lSm9pbiI6ICJyb3VuZCIsCiAgIm9wYWNpdHkiOiAxLjAsCiAgInJhZGl1cyI6IDEwLAogICJzdHJva2UiOiB0cnVlLAogICJ3ZWlnaHQiOiAzCn0KICAgICAgICAgICAgICAgICkKICAgICAgICAgICAgICAgIC5hZGRUbyhtYXBfNTAzYmRkNzUxNWMzNDA3ZWJhMTVmZmE0MTQ4M2U5ZDUpOwogICAgICAgICAgICAKICAgIAogICAgICAgICAgICB2YXIgY2lyY2xlX21hcmtlcl8wODhhMjBmMjAzZDU0NDdlOGM0YTc0ZjI4MWNkM2UyYyA9IEwuY2lyY2xlTWFya2VyKAogICAgICAgICAgICAgICAgWzM4LjczNDA2NywgLTkuMTQ0MjI4XSwKICAgICAgICAgICAgICAgIHsKICAiYnViYmxpbmdNb3VzZUV2ZW50cyI6IHRydWUsCiAgImNvbG9yIjogInJlZCIsCiAgImRhc2hBcnJheSI6IG51bGwsCiAgImRhc2hPZmZzZXQiOiBudWxsLAogICJmaWxsIjogZmFsc2UsCiAgImZpbGxDb2xvciI6ICJyZWQiLAogICJmaWxsT3BhY2l0eSI6IDAuMiwKICAiZmlsbFJ1bGUiOiAiZXZlbm9kZCIsCiAgImxpbmVDYXAiOiAicm91bmQiLAogICJsaW5lSm9pbiI6ICJyb3VuZCIsCiAgIm9wYWNpdHkiOiAxLjAsCiAgInJhZGl1cyI6IDMsCiAgInN0cm9rZSI6IHRydWUsCiAgIndlaWdodCI6IDMKfQogICAgICAgICAgICAgICAgKQogICAgICAgICAgICAgICAgLmFkZFRvKG1hcF81MDNiZGQ3NTE1YzM0MDdlYmExNWZmYTQxNDgzZTlkNSk7CiAgICAgICAgICAgIAogICAgCiAgICAgICAgICAgIHZhciBjaXJjbGVfbWFya2VyXzhkOTZiMDAyNTc3NDRmMmJiY2EwNzYwZjU4MzNiNWQyID0gTC5jaXJjbGVNYXJrZXIoCiAgICAgICAgICAgICAgICBbMzguNzM3MTM3LCAtOS4xMzM4NTFdLAogICAgICAgICAgICAgICAgewogICJidWJibGluZ01vdXNlRXZlbnRzIjogdHJ1ZSwKICAiY29sb3IiOiAicmVkIiwKICAiZGFzaEFycmF5IjogbnVsbCwKICAiZGFzaE9mZnNldCI6IG51bGwsCiAgImZpbGwiOiBmYWxzZSwKICAiZmlsbENvbG9yIjogInJlZCIsCiAgImZpbGxPcGFjaXR5IjogMC4yLAogICJmaWxsUnVsZSI6ICJldmVub2RkIiwKICAibGluZUNhcCI6ICJyb3VuZCIsCiAgImxpbmVKb2luIjogInJvdW5kIiwKICAib3BhY2l0eSI6IDEuMCwKICAicmFkaXVzIjogMywKICAic3Ryb2tlIjogdHJ1ZSwKICAid2VpZ2h0IjogMwp9CiAgICAgICAgICAgICAgICApCiAgICAgICAgICAgICAgICAuYWRkVG8obWFwXzUwM2JkZDc1MTVjMzQwN2ViYTE1ZmZhNDE0ODNlOWQ1KTsKICAgICAgICAgICAgCiAgICAKICAgICAgICAgICAgdmFyIGNpcmNsZV9tYXJrZXJfY2M5ZTVmNTVkYTc5NDczNGI2NjEyZWVkMTUxN2EyNGYgPSBMLmNpcmNsZU1hcmtlcigKICAgICAgICAgICAgICAgIFszOC43MzU1OTUsIC05LjE0MzAxOV0sCiAgICAgICAgICAgICAgICB7CiAgImJ1YmJsaW5nTW91c2VFdmVudHMiOiB0cnVlLAogICJjb2xvciI6ICJ5ZWxsb3ciLAogICJkYXNoQXJyYXkiOiBudWxsLAogICJkYXNoT2Zmc2V0IjogbnVsbCwKICAiZmlsbCI6IGZhbHNlLAogICJmaWxsQ29sb3IiOiAieWVsbG93IiwKICAiZmlsbE9wYWNpdHkiOiAwLjIsCiAgImZpbGxSdWxlIjogImV2ZW5vZGQiLAogICJsaW5lQ2FwIjogInJvdW5kIiwKICAibGluZUpvaW4iOiAicm91bmQiLAogICJvcGFjaXR5IjogMS4wLAogICJyYWRpdXMiOiAzLAogICJzdHJva2UiOiB0cnVlLAogICJ3ZWlnaHQiOiAzCn0KICAgICAgICAgICAgICAgICkKICAgICAgICAgICAgICAgIC5hZGRUbyhtYXBfNTAzYmRkNzUxNWMzNDA3ZWJhMTVmZmE0MTQ4M2U5ZDUpOwogICAgICAgICAgICAKICAgIAogICAgICAgICAgICB2YXIgY2lyY2xlX21hcmtlcl8yNTgzZjQyNTcxNzA0YmRmOTk4NDYyZTU1NjlkN2U2ZCA9IEwuY2lyY2xlTWFya2VyKAogICAgICAgICAgICAgICAgWzM4LjczODIwNCwgLTkuMTM5ODcxXSwKICAgICAgICAgICAgICAgIHsKICAiYnViYmxpbmdNb3VzZUV2ZW50cyI6IHRydWUsCiAgImNvbG9yIjogInllbGxvdyIsCiAgImRhc2hBcnJheSI6IG51bGwsCiAgImRhc2hPZmZzZXQiOiBudWxsLAogICJmaWxsIjogZmFsc2UsCiAgImZpbGxDb2xvciI6ICJ5ZWxsb3ciLAogICJmaWxsT3BhY2l0eSI6IDAuMiwKICAiZmlsbFJ1bGUiOiAiZXZlbm9kZCIsCiAgImxpbmVDYXAiOiAicm91bmQiLAogICJsaW5lSm9pbiI6ICJyb3VuZCIsCiAgIm9wYWNpdHkiOiAxLjAsCiAgInJhZGl1cyI6IDMsCiAgInN0cm9rZSI6IHRydWUsCiAgIndlaWdodCI6IDMKfQogICAgICAgICAgICAgICAgKQogICAgICAgICAgICAgICAgLmFkZFRvKG1hcF81MDNiZGQ3NTE1YzM0MDdlYmExNWZmYTQxNDgzZTlkNSk7CiAgICAgICAgICAgIAo8L3NjcmlwdD4=\" style=\"position:absolute;width:100%;height:100%;left:0;top:0;border:none !important;\" allowfullscreen webkitallowfullscreen mozallowfullscreen></iframe></div></div>"
      ],
      "text/plain": [
       "<folium.folium.Map at 0x31f28f6d8>"
      ]
     },
     "execution_count": 105,
     "metadata": {},
     "output_type": "execute_result"
    }
   ],
   "source": [
    "import pandas as pd\n",
    "import folium\n",
    "\n",
    "\n",
    "folium_map = folium.Map(location=[38.7368, -9.1387],\n",
    "                        zoom_start=16,\n",
    "                        tiles=\"CartoDB dark_matter\")\n",
    "\n",
    "folium.CircleMarker(location=[38.7368, -9.1387],fill=True).add_to(folium_map)#IST\n",
    "folium.CircleMarker(location=[38.734067, -9.144228],color='red', radius=3).add_to(folium_map) #metro saldanha\n",
    "folium.CircleMarker(location=[38.737137, -9.133851],color='red', radius=3).add_to(folium_map) #metro alameda Av. Alm. Reis 211-207\n",
    "folium.CircleMarker(location=[38.735595, -9.143019],color='yellow', radius=3).add_to(folium_map) #carris rovisco pais\n",
    "folium.CircleMarker(location=[38.738204, -9.139871],color='yellow', radius=3).add_to(folium_map) #Av. de António José de Almeida\n",
    "\n",
    "\n",
    "folium_map\n",
    "\n"
   ]
  },
  {
   "cell_type": "code",
   "execution_count": 55,
   "metadata": {},
   "outputs": [],
   "source": [
    "import requests\n",
    "import json\n",
    "# http://lisboaaberta.cm-lisboa.pt/index.php/pt/dados/conjuntos-de-dados \n",
    "# Conjunto de dados com as ciclovias existentes na cidade de Lisboa\n",
    "response = json.loads(requests.get(\"https://opendata.arcgis.com/datasets/440b7424a6284e0b9bf11179b95bf8d1_0.geojson\").text)\n",
    "\n",
    "import geopandas as gpd\n",
    "\n",
    "data = requests.get(\"https://opendata.arcgis.com/datasets/440b7424a6284e0b9bf11179b95bf8d1_0.geojson\")\n",
    "gdf = gpd.GeoDataFrame(data.json())\n",
    "gdf.head()\n"
   ]
  },
  {
   "cell_type": "markdown",
   "metadata": {},
   "source": [
    "##### Train\n",
    "\n",
    "If you came to Lisbon by train, either by CP or by Fertagus, you should leave at the station or Entrecampos or Romo-Areeiro. When arriving at the station you can choose to come by foot, which takes between 15 to 20 minutes, or come by metro. If you choose the metro and exit at Entrecampos, you should take the yellow line metro, which is connected to the train station, and leave at Saldanha station (10 minutes), from which it will take 2 minutes to the IST.\n",
    "Note: Choose to exit the saldanha exit of the red line, being the closest to the IST. If you are leaving at the Roma-Areeiro station you will have to take the metro of the green line to the Alameda station (10 minutes), from which it will take 2 minutes to the IST.\n",
    "\n",
    "\n",
    "\n",
    "##### Buses\n",
    "\n",
    "If you travel to IST by bus - excluding Carris buses - you should leave in Sete Rios or Oriente, then you can choose between taking the metro or a Carris bus.\n",
    "\n",
    "###### Exit at Sete Rios:\n",
    "\n",
    "* Metro: take the blue line metro at the Zoo station (the Sete Rios metro station) and get off at S. Sebastião station where you will have to change to the red line and exit at Saldanha station (17 minutes) from which will take 2 minutes to the IST.\n",
    "\n",
    "* Bus: take bus number 726 towards Sapadores and exit at Arco do Cego (22 minutes)\n",
    "\n",
    "###### Departure at the Gare do Oriente:\n",
    "\n",
    "* Metro: you have to take the metro of the red line and exit at Alameda station or Saldanha station (15 minutes).\n",
    "\n",
    "* Bus: take the number 744 towards the Marquês de Pombal and exit at Saldanha (32 minutes)\n",
    "\n",
    "##### Airplane\n",
    "\n",
    "The airport has several alternatives to reach the city center (7 km), from the Metro to the Aerobus, in addition to the regular Carris races to the practical Taxi (which can be found outside the arrivals terminal). Choosing to use the metro to go directly to IST (station Alameda or Saldanha, red line), the expected duration of the route is 15 to 20 minutes.\n",
    "\n",
    "\n",
    "\n",
    "##### Subway\n",
    "\n",
    "* Saldanha Station: Yellow Line and Red Line\n",
    "\n",
    "* Alameda Station: Green Line and Red Line\n",
    "\n",
    "For more information about the routes visit the [Metropolitano de Lisboa website](https://www.metrolisboa.pt/).\n",
    "\n",
    "\n",
    "\n",
    "##### Carris\n",
    "\n",
    "* Av. Rovisco Pais / Av. António José de Almeida (lateral entries): 720, 742, 767\n",
    "\n",
    "* Alameda: 708 (bike bus), 717, 718, 720, 735, 767 [and dawn network: 206, 208]\n",
    "\n",
    "* Saldanha / Arco do Cego: 713, 716, 720, 726, 727, 736, 738, 742, 744, 767, 783 [and dawn network: 207]\n",
    "\n",
    "For information on the routes and prices visit the [Carris website](http://www.carris.pt/).\n",
    "\n",
    "\n",
    "\n",
    "##### Taxi\n",
    "\n",
    "Taxis allow you to get to IST from anywhere in the city, but costs also increase according to distance, traffic and time. An IST airport trip costs around 10 euros and there is an alternative to buying a taxi voucher (20-25 euros) in the arrivals area to the center of Lisbon.\n",
    "\n",
    "##### Apps\n",
    "\n",
    "**Uber** [iOS](https://itunes.apple.com/us/app/uber/id368677368?mt=8) [Android](https://play.google.com/store/apps/details?id=com.apple.movetoios&hl=en)\n",
    "\n",
    "[Cabify](https://cabify.com/en)"
   ]
  },
  {
   "cell_type": "markdown",
   "metadata": {},
   "source": [
    "### Software installation "
   ]
  },
  {
   "cell_type": "markdown",
   "metadata": {},
   "source": [
    "#### Contents\n",
    "\n",
    "##### Prerequisite: Python\n",
    "\n",
    "While Jupyter runs code in many programming languages, Python is a requirement (Python 3.3 or greater, or Python 2.7) for installing the Jupyter Notebook.\n",
    "\n",
    "We recommend using the [Anaconda](https://www.anaconda.com/distribution/) distribution to install Python and Jupyter. We’ll go through its installation in the next section.\n",
    "\n",
    "##### Installing Jupyter using Anaconda and conda\n",
    "\n",
    "For new users, we highly recommend installing [Anaconda](https://www.anaconda.com/distribution/). Anaconda conveniently installs Python, the Jupyter Notebook, and other commonly used packages for scientific computing and data science.\n",
    "\n",
    "Use the following installation steps:\n",
    "\n",
    "1. Download Anaconda. We recommend downloading Anaconda’s latest Python 3 version (currently Python 3.6).\n",
    "\n",
    "2. Install the version of Anaconda which you downloaded, following the instructions on the download page.\n",
    "\n",
    "\n",
    "\n",
    "To run the notebook:\n",
    "\n",
    "`jupyter notebook`\n"
   ]
  },
  {
   "cell_type": "markdown",
   "metadata": {},
   "source": [
    "\n",
    "##### Alternative for experienced Python users: \n",
    "\n",
    "Installing Jupyter with pip\n",
    "\n",
    "##### Libraries\n",
    "\n",
    "[Pandas](https://pandas.pydata.org/)\n",
    "\n",
    "\n",
    "#### Energy plus\n",
    "\n",
    "[Download](https://energyplus.net/downloads)\n",
    "\n",
    "\n",
    "\n",
    "#### ArGIS\n",
    "\n",
    "https://www.esri.com/en-us/arcgis/products/arcgis-online/overview"
   ]
  },
  {
   "cell_type": "markdown",
   "metadata": {},
   "source": [
    "## Data Science "
   ]
  },
  {
   "cell_type": "markdown",
   "metadata": {},
   "source": [
    "### Keynote speaker talk"
   ]
  },
  {
   "cell_type": "markdown",
   "metadata": {},
   "source": [
    "### Introduction to Python"
   ]
  },
  {
   "cell_type": "markdown",
   "metadata": {},
   "source": [
    "## Geographic Information"
   ]
  },
  {
   "cell_type": "markdown",
   "metadata": {},
   "source": [
    "### Keynote speaker talk"
   ]
  },
  {
   "cell_type": "markdown",
   "metadata": {},
   "source": [
    "### Tool 2 - Hands-on session with ArcGis"
   ]
  },
  {
   "cell_type": "markdown",
   "metadata": {},
   "source": [
    "## Energy"
   ]
  },
  {
   "cell_type": "markdown",
   "metadata": {},
   "source": [
    "### Keynote speaker talk"
   ]
  },
  {
   "cell_type": "markdown",
   "metadata": {},
   "source": [
    "### Tool 3 - Introduction to EnergyPlus"
   ]
  },
  {
   "cell_type": "markdown",
   "metadata": {},
   "source": [
    "## Mobility "
   ]
  },
  {
   "cell_type": "markdown",
   "metadata": {},
   "source": [
    "### Keynote speaker talk"
   ]
  },
  {
   "cell_type": "markdown",
   "metadata": {},
   "source": [
    "### Tool 4 - Hands-on session with Mobility tool"
   ]
  },
  {
   "cell_type": "code",
   "execution_count": null,
   "metadata": {},
   "outputs": [],
   "source": []
  }
 ],
 "metadata": {
  "kernelspec": {
   "display_name": "Python 3",
   "language": "python",
   "name": "python3"
  },
  "language_info": {
   "codemirror_mode": {
    "name": "ipython",
    "version": 3
   },
   "file_extension": ".py",
   "mimetype": "text/x-python",
   "name": "python",
   "nbconvert_exporter": "python",
   "pygments_lexer": "ipython3",
   "version": "3.7.1"
  }
 },
 "nbformat": 4,
 "nbformat_minor": 2
}
